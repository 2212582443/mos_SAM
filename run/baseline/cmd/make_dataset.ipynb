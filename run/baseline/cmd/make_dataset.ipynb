{
 "cells": [
  {
   "cell_type": "code",
   "execution_count": 1,
   "metadata": {},
   "outputs": [
    {
     "name": "stdout",
     "output_type": "stream",
     "text": [
      "/data2/huping/home/projects/src/github.com/any35/MOS\n"
     ]
    }
   ],
   "source": [
    "import os, sys\n",
    "\n",
    "os.chdir(\"../../..\")\n",
    "print(os.path.abspath(\"./\"))"
   ]
  },
  {
   "cell_type": "code",
   "execution_count": 9,
   "metadata": {},
   "outputs": [
    {
     "name": "stdout",
     "output_type": "stream",
     "text": [
      "torch.Size([5, 40, 768])\n"
     ]
    }
   ],
   "source": [
    "from mos.models.sam.modeling_sam.embedding.text_embedding import text2tensor\n",
    "from mos.models.sam.modeling_sam.embedding.cmri_cls2text_embedding import _token_text\n",
    "import torch\n",
    "import json\n",
    "\n",
    "# EAT, LV,RV,MYO\n",
    "text_list = [\n",
    "    \"\",  # background\n",
    "    _token_text[20][0],\n",
    "    _token_text[11][0],\n",
    "    _token_text[12][0],\n",
    "    _token_text[13][0],\n",
    "]\n",
    "\n",
    "token_list = [text2tensor(txt, 40) for txt in text_list]\n",
    "\n",
    "token_list = torch.cat(token_list, dim=0)\n",
    "\n",
    "print(token_list.shape)\n",
    "torch.save(\n",
    "    {\n",
    "        \"token\": token_list,\n",
    "        \"text\": text_list,\n",
    "    },\n",
    "    \".cache/dataset/baseline/token.pt\",\n",
    ")"
   ]
  }
 ],
 "metadata": {
  "kernelspec": {
   "display_name": "py39",
   "language": "python",
   "name": "python3"
  },
  "language_info": {
   "codemirror_mode": {
    "name": "ipython",
    "version": 3
   },
   "file_extension": ".py",
   "mimetype": "text/x-python",
   "name": "python",
   "nbconvert_exporter": "python",
   "pygments_lexer": "ipython3",
   "version": "3.10.11"
  }
 },
 "nbformat": 4,
 "nbformat_minor": 2
}
